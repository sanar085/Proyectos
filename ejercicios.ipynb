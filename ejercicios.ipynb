{
  "cells": [
    {
      "cell_type": "markdown",
      "metadata": {
        "id": "view-in-github",
        "colab_type": "text"
      },
      "source": [
        "<a href=\"https://colab.research.google.com/github/sanar085/Proyectos/blob/main/ejercicios.ipynb\" target=\"_parent\"><img src=\"https://colab.research.google.com/assets/colab-badge.svg\" alt=\"Open In Colab\"/></a>"
      ]
    },
    {
      "cell_type": "markdown",
      "metadata": {
        "id": "Aaa3ruToZ0En"
      },
      "source": [
        "### Ejercicio\n",
        "\n",
        "Define una función que dados dos números devuelva el menor de ellos. Utiliza la siguiente cabecera. En la celda siguiente debes reemplazar el ``pass`` por la definición de la función."
      ]
    },
    {
      "cell_type": "code",
      "execution_count": null,
      "metadata": {
        "id": "8wbv6N3BZ0Ep"
      },
      "outputs": [],
      "source": [
        "def minimo(x,y):\n",
        "    '''\n",
        "    >>> minimo(10, 5)\n",
        "    5\n",
        "    >>> minimo(-4, 9)\n",
        "    -4\n",
        "    >>> minimo(3.8, 2.9)\n",
        "    2.9\n",
        "    '''\n",
        "    if x < y:\n",
        "      return x\n",
        "    else:\n",
        "      return y"
      ]
    },
    {
      "cell_type": "markdown",
      "metadata": {
        "id": "ehHfpjvqZ0Ew"
      },
      "source": [
        "Si la definición anterior no es correcta, al ejecutar la siguiente celda obtendrás un error, lo que significa que tu función no pasa los tests proporcionados."
      ]
    },
    {
      "cell_type": "code",
      "execution_count": null,
      "metadata": {
        "id": "Y1lLNRWWZ0Ey",
        "outputId": "9e144147-2426-49e2-a453-021bbe5f3697",
        "colab": {
          "base_uri": "https://localhost:8080/"
        }
      },
      "outputs": [
        {
          "output_type": "stream",
          "name": "stderr",
          "text": [
            "\n",
            "PYDEV DEBUGGER WARNING:\n",
            "sys.settrace() should not be used when the debugger is being used.\n",
            "This may cause the debugger to stop working correctly.\n",
            "If this is needed, please check: \n",
            "http://pydev.blogspot.com/2007/06/why-cant-pydev-debugger-work-with.html\n",
            "to see how to restore the debug tracing back correctly.\n",
            "Call Location:\n",
            "  File \"/usr/lib/python3.10/doctest.py\", line 1501, in run\n",
            "    sys.settrace(save_trace)\n",
            "\n"
          ]
        },
        {
          "output_type": "execute_result",
          "data": {
            "text/plain": [
              "TestResults(failed=0, attempted=3)"
            ]
          },
          "metadata": {},
          "execution_count": 2
        }
      ],
      "source": [
        "import doctest\n",
        "doctest.testmod()"
      ]
    },
    {
      "cell_type": "markdown",
      "metadata": {
        "id": "BTAWy3iKZ0E3"
      },
      "source": [
        "### Ejercicio\n",
        "\n",
        "Define una función que dado un string, devuelve un string que contiene los dos primeros y los dos últimos caracteres del string; es decir, si la función recibe 'primavera', la función devolverá 'prra'. Sin embargo, si la longitud del string es menor que dos, la función devolverá el string vacio."
      ]
    },
    {
      "cell_type": "code",
      "execution_count": null,
      "metadata": {
        "id": "0gNDnvUqZ0E5"
      },
      "outputs": [],
      "source": [
        "def principio_fin(s):\n",
        "    '''\n",
        "    >>> principio_fin('primavera')\n",
        "    'prra'\n",
        "    >>> principio_fin('invierno')\n",
        "    'inno'\n",
        "    >>> principio_fin('xyz')\n",
        "    'xyyz'\n",
        "    >>> principio_fin('a')\n",
        "    ''\n",
        "    '''\n",
        "    if len(s) < 2:\n",
        "      return \"\"\n",
        "    else:\n",
        "        primeros = s[:2]\n",
        "        ultimos = s[-2:]\n",
        "        return primeros + ultimos\n"
      ]
    },
    {
      "cell_type": "markdown",
      "metadata": {
        "id": "BLaUhyVuZ0FA"
      },
      "source": [
        "Comprueba los tests."
      ]
    },
    {
      "cell_type": "code",
      "execution_count": null,
      "metadata": {
        "id": "VbWdTheIZ0FC",
        "outputId": "cb2b52ea-d1cf-4c81-e5ae-43ba68316c19",
        "colab": {
          "base_uri": "https://localhost:8080/"
        }
      },
      "outputs": [
        {
          "output_type": "execute_result",
          "data": {
            "text/plain": [
              "TestResults(failed=0, attempted=7)"
            ]
          },
          "metadata": {},
          "execution_count": 4
        }
      ],
      "source": [
        "doctest.testmod()"
      ]
    },
    {
      "cell_type": "markdown",
      "metadata": {
        "id": "5GNnRPmoZ0FH"
      },
      "source": [
        "### Ejercicio\n",
        "\n",
        "Define una función que dado un string s, devuelve un string donde todas las ocurrencias del primer carácter de s han sido reemplazadas por '\\*', exceptuando el primer carácter. Ejemplo. 'babble' produce 'ba**le'. Ejecuta la siguiente celda para saber qué hace la función ``replace``."
      ]
    },
    {
      "cell_type": "code",
      "execution_count": null,
      "metadata": {
        "id": "fM0WDTxFZ0FJ"
      },
      "outputs": [],
      "source": [
        "s = ''\n",
        "??s.replace"
      ]
    },
    {
      "cell_type": "code",
      "execution_count": null,
      "metadata": {
        "id": "zrrYigVnZ0FP"
      },
      "outputs": [],
      "source": [
        "def comienzo_fijo(s):\n",
        "    '''\n",
        "    >>> comienzo_fijo('babble')\n",
        "    'ba**le'\n",
        "    >>> comienzo_fijo('aardvark')\n",
        "    'a*rdv*rk'\n",
        "    >>> comienzo_fijo('google')\n",
        "    'goo*le'\n",
        "    >>> comienzo_fijo('donut')\n",
        "    'donut'\n",
        "    '''\n",
        "    if len(s) < 2:\n",
        "      return s\n",
        "    else:\n",
        "      primero = s[0]\n",
        "      restantes = s[1:]\n",
        "      reemplazados = restantes.replace(primero, \"*\")\n",
        "    return primero + reemplazados\n"
      ]
    },
    {
      "cell_type": "markdown",
      "metadata": {
        "id": "2Vq5mVhLZ0FV"
      },
      "source": [
        "Comprueba los tests."
      ]
    },
    {
      "cell_type": "code",
      "execution_count": null,
      "metadata": {
        "id": "TU4w5rvCZ0FW",
        "outputId": "41e65c26-3814-4238-f94a-a82e3b6b8ead",
        "colab": {
          "base_uri": "https://localhost:8080/"
        }
      },
      "outputs": [
        {
          "output_type": "execute_result",
          "data": {
            "text/plain": [
              "TestResults(failed=0, attempted=11)"
            ]
          },
          "metadata": {},
          "execution_count": 6
        }
      ],
      "source": [
        "doctest.testmod()"
      ]
    },
    {
      "cell_type": "markdown",
      "metadata": {
        "id": "p_AoYDetZ0Fc"
      },
      "source": [
        "### Ejercicio\n",
        "\n",
        "Define una función que dado un string s, devuelva una tupla con dos elementos, donde el primer elemento de la  tupla es el número de letras del string y el segundo elemento es el número de dígitos del string."
      ]
    },
    {
      "cell_type": "code",
      "execution_count": null,
      "metadata": {
        "id": "VGRuniFFZ0Fe"
      },
      "outputs": [],
      "source": [
        "def cuenta_letras_numeros(s):\n",
        "    '''\n",
        "    >>> cuenta_letras_numeros('hello world! 123')\n",
        "    (10, 3)\n",
        "    >>> cuenta_letras_numeros('123abcde')\n",
        "    (5, 3)\n",
        "    '''\n",
        "    letras = 0\n",
        "    numeros = 0\n",
        "    for caracter in s:\n",
        "      if caracter.isalpha():\n",
        "        letras += 1\n",
        "      if caracter.isdigit():\n",
        "        numeros += 1\n",
        "    return (letras, numeros)"
      ]
    },
    {
      "cell_type": "markdown",
      "metadata": {
        "id": "RtnMcwHSZ0Fn"
      },
      "source": [
        "Comprueba los tests."
      ]
    },
    {
      "cell_type": "code",
      "execution_count": null,
      "metadata": {
        "id": "CEsDg1XDZ0Fp",
        "outputId": "5f5f1a2f-61b5-4d0d-ca5a-81fa8980c329",
        "colab": {
          "base_uri": "https://localhost:8080/"
        }
      },
      "outputs": [
        {
          "output_type": "execute_result",
          "data": {
            "text/plain": [
              "TestResults(failed=0, attempted=13)"
            ]
          },
          "metadata": {},
          "execution_count": 17
        }
      ],
      "source": [
        "doctest.testmod()"
      ]
    },
    {
      "cell_type": "markdown",
      "metadata": {
        "id": "rGYg3PseZ0Ft"
      },
      "source": [
        "### Ejercicio\n",
        "\n",
        "Define una función que dada una lista de strings devuelva el número de strings cuya longitud es mayor que 2 y que\n",
        "además cumplen que el primer y último carácter del string son el mismo."
      ]
    },
    {
      "cell_type": "code",
      "execution_count": null,
      "metadata": {
        "id": "T5NtQotnZ0Fu"
      },
      "outputs": [],
      "source": [
        "def cuenta_strings(palabras):\n",
        "    '''\n",
        "    >>> cuenta_strings(['aba', 'bb', 'cdefc'])\n",
        "    2\n",
        "    >>> cuenta_strings(['oso', 'ojo', 'radar', 'reconocer','rotor', 'salas'])\n",
        "    6\n",
        "    '''\n",
        "    numero = 0\n",
        "    for cadena in palabras:\n",
        "      if len(cadena) > 2 and cadena [0] == cadena[-1]:\n",
        "        numero += 1\n",
        "    return numero"
      ]
    },
    {
      "cell_type": "markdown",
      "metadata": {
        "id": "DiUz5ivIZ0Fz"
      },
      "source": [
        "Comprueba los tests."
      ]
    },
    {
      "cell_type": "code",
      "execution_count": null,
      "metadata": {
        "id": "7-SWnXF4Z0F0",
        "outputId": "e29d236a-1ede-41eb-d774-1b0003e82df4",
        "colab": {
          "base_uri": "https://localhost:8080/"
        }
      },
      "outputs": [
        {
          "output_type": "execute_result",
          "data": {
            "text/plain": [
              "TestResults(failed=0, attempted=15)"
            ]
          },
          "metadata": {},
          "execution_count": 19
        }
      ],
      "source": [
        "doctest.testmod()"
      ]
    },
    {
      "cell_type": "markdown",
      "source": [
        "### Ejercicio\n",
        "\n",
        "Crea una función que reciba dos entradas: un texto y una palabra y devuelva como resultado el número de apariciones de esa palabra en el texto."
      ],
      "metadata": {
        "id": "3mOBgLOl30IA"
      }
    },
    {
      "cell_type": "code",
      "source": [
        "def cuenta_ocurrencias(texto,palabra):\n",
        "    '''\n",
        "    >>> cuenta_ocurrencias(\"Vive y deja vivir\", \"vive\")\n",
        "    1\n",
        "    >>> cuenta_ocurrencias(\"No es no\", \"no\")\n",
        "    2\n",
        "    '''\n",
        "    palabras = texto.split()\n",
        "    contador = 0\n",
        "    for palabra_entrada in palabras:\n",
        "      palabra_entrada = palabra_entrada.lower()\n",
        "      if palabra_entrada == palabra:\n",
        "        contador +=1\n",
        "    return contador"
      ],
      "metadata": {
        "id": "PlxrdVQm3zwA"
      },
      "execution_count": null,
      "outputs": []
    },
    {
      "cell_type": "markdown",
      "source": [
        "Comprueba los tests."
      ],
      "metadata": {
        "id": "bL-bWhRr4E5Q"
      }
    },
    {
      "cell_type": "code",
      "source": [
        "doctest.testmod()"
      ],
      "metadata": {
        "id": "sR5ByX3o4GXX",
        "outputId": "e15d4d97-1efe-4613-c7de-0941de7dd492",
        "colab": {
          "base_uri": "https://localhost:8080/"
        }
      },
      "execution_count": null,
      "outputs": [
        {
          "output_type": "execute_result",
          "data": {
            "text/plain": [
              "TestResults(failed=0, attempted=17)"
            ]
          },
          "metadata": {},
          "execution_count": 36
        }
      ]
    }
  ],
  "metadata": {
    "colab": {
      "provenance": [],
      "include_colab_link": true
    },
    "kernelspec": {
      "display_name": "Python 3",
      "language": "python",
      "name": "python3"
    },
    "language_info": {
      "codemirror_mode": {
        "name": "ipython",
        "version": 3
      },
      "file_extension": ".py",
      "mimetype": "text/x-python",
      "name": "python",
      "nbconvert_exporter": "python",
      "pygments_lexer": "ipython3",
      "version": "3.6.8"
    }
  },
  "nbformat": 4,
  "nbformat_minor": 0
}